{
 "cells": [
  {
   "cell_type": "markdown",
   "id": "89490d31",
   "metadata": {},
   "source": [
    "1. Creating a dataframe or tibble representing this dataset that has the desired properties."
   ]
  },
  {
   "cell_type": "code",
   "execution_count": 17,
   "id": "459fcd9b",
   "metadata": {},
   "outputs": [],
   "source": [
    "import numpy as np\n",
    "import pandas as pd\n",
    "import random\n",
    "import scipy.stats as sps\n",
    "import matplotlib.pyplot as plt\n",
    "\n",
    "random.seed(45)  "
   ]
  },
  {
   "cell_type": "markdown",
   "id": "50edfa34",
   "metadata": {},
   "source": [
    "\n",
    "Generate an identification (ID) feature for a dataset comprising 800 samples, followed by the random shuffling of the data points."
   ]
  },
  {
   "cell_type": "code",
   "execution_count": 18,
   "id": "ccc476df",
   "metadata": {},
   "outputs": [],
   "source": [
    "n_samples=800\n",
    "id_feature=list(\"ID\"+str(i+100) for i in range(1,n_samples+1))\n",
    "random.shuffle(id_feature)"
   ]
  },
  {
   "cell_type": "markdown",
   "id": "043da04a",
   "metadata": {},
   "source": [
    "Creating Groups A, B and C and shuffling them"
   ]
  },
  {
   "cell_type": "code",
   "execution_count": 19,
   "id": "023954f7",
   "metadata": {},
   "outputs": [],
   "source": [
    "groups = np.repeat(['A', 'B', 'C'], repeats=[267, 267, 266])\n",
    "random.shuffle(groups)"
   ]
  },
  {
   "cell_type": "markdown",
   "id": "4360d8bc",
   "metadata": {},
   "source": [
    "Generating Feature_1 by randomly sampling from a normal distribution with a mean of 2500 and a standard deviation of 300."
   ]
  },
  {
   "cell_type": "code",
   "execution_count": 20,
   "id": "9b7c5477",
   "metadata": {},
   "outputs": [
    {
     "data": {
      "text/plain": [
       "2486.411405629941"
      ]
     },
     "execution_count": 20,
     "metadata": {},
     "output_type": "execute_result"
    }
   ],
   "source": [
    "mean = 2500\n",
    "std = (2800-2200)/2\n",
    "feature_1 = sps.norm.rvs(mean, std, size=n_samples)\n",
    "feature_1.mean()"
   ]
  },
  {
   "cell_type": "markdown",
   "id": "199599de",
   "metadata": {},
   "source": [
    "Generate Feature_2 by randomly sampling from a normal distribution with a mean of 400 and a standard deviation of 15."
   ]
  },
  {
   "cell_type": "code",
   "execution_count": 21,
   "id": "163d4f09",
   "metadata": {},
   "outputs": [
    {
     "data": {
      "text/plain": [
       "399.899838124157"
      ]
     },
     "execution_count": 21,
     "metadata": {},
     "output_type": "execute_result"
    }
   ],
   "source": [
    "mean = 400\n",
    "std = 15\n",
    "feature_2 = sps.norm.rvs(mean, std, size=n_samples)\n",
    "feature_2.mean()"
   ]
  },
  {
   "cell_type": "markdown",
   "id": "b6334d57",
   "metadata": {},
   "source": [
    "Creating a DataFrame with the ID, Group, Feature_1, Feature_2 "
   ]
  },
  {
   "cell_type": "code",
   "execution_count": 22,
   "id": "519cebaa",
   "metadata": {},
   "outputs": [
    {
     "data": {
      "text/plain": [
       "B    267\n",
       "A    267\n",
       "C    266\n",
       "Name: Group, dtype: int64"
      ]
     },
     "execution_count": 22,
     "metadata": {},
     "output_type": "execute_result"
    }
   ],
   "source": [
    "fake_data = pd.DataFrame({\"ID\":id_feature,\"Group\":groups,\"Feature_1\":feature_1,\"Feature_2\":feature_2})\n",
    "fake_data['Group'].value_counts()"
   ]
  },
  {
   "cell_type": "markdown",
   "id": "d8928341",
   "metadata": {},
   "source": [
    "Creating Feature_3 using Group Feature_1 and Feature_2."
   ]
  },
  {
   "cell_type": "code",
   "execution_count": 23,
   "id": "7404d0cd",
   "metadata": {},
   "outputs": [],
   "source": [
    "fake_data['Feature_3'] = np.nan\n",
    "\n",
    "fake_data.loc[fake_data['Group'] == 'A', 'Feature_3'] = 3 * fake_data['Feature_1'] - 5 * fake_data['Feature_2']\n",
    "fake_data.loc[fake_data['Group'] == 'B', 'Feature_3'] = 2 * fake_data['Feature_1']\n",
    "fake_data.loc[fake_data['Group'] == 'C', 'Feature_3'] = - fake_data['Feature_1'] + fake_data['Feature_2']\n",
    "\n"
   ]
  },
  {
   "cell_type": "markdown",
   "id": "c335c0cc",
   "metadata": {},
   "source": [
    "Adding Component which is sampled from a normal distribution wiht mean 0 and standard seviation 12. "
   ]
  },
  {
   "cell_type": "code",
   "execution_count": 30,
   "id": "9882cb2b",
   "metadata": {},
   "outputs": [],
   "source": [
    "mean = 0\n",
    "std = 12\n",
    "additional_component = sps.norm.rvs(mean, std, size=n_samples)\n",
    "fake_data['Feature_3'] += additional_component\n"
   ]
  },
  {
   "cell_type": "code",
   "execution_count": 25,
   "id": "f22a2d60",
   "metadata": {},
   "outputs": [
    {
     "data": {
      "text/html": [
       "<div>\n",
       "<style scoped>\n",
       "    .dataframe tbody tr th:only-of-type {\n",
       "        vertical-align: middle;\n",
       "    }\n",
       "\n",
       "    .dataframe tbody tr th {\n",
       "        vertical-align: top;\n",
       "    }\n",
       "\n",
       "    .dataframe thead th {\n",
       "        text-align: right;\n",
       "    }\n",
       "</style>\n",
       "<table border=\"1\" class=\"dataframe\">\n",
       "  <thead>\n",
       "    <tr style=\"text-align: right;\">\n",
       "      <th></th>\n",
       "      <th>ID</th>\n",
       "      <th>Group</th>\n",
       "      <th>Feature_1</th>\n",
       "      <th>Feature_2</th>\n",
       "      <th>Feature_3</th>\n",
       "    </tr>\n",
       "  </thead>\n",
       "  <tbody>\n",
       "    <tr>\n",
       "      <th>0</th>\n",
       "      <td>ID763</td>\n",
       "      <td>C</td>\n",
       "      <td>2125.539879</td>\n",
       "      <td>386.388234</td>\n",
       "      <td>-1726.247962</td>\n",
       "    </tr>\n",
       "    <tr>\n",
       "      <th>1</th>\n",
       "      <td>ID204</td>\n",
       "      <td>C</td>\n",
       "      <td>2902.322078</td>\n",
       "      <td>407.393768</td>\n",
       "      <td>-2507.771190</td>\n",
       "    </tr>\n",
       "    <tr>\n",
       "      <th>2</th>\n",
       "      <td>ID734</td>\n",
       "      <td>C</td>\n",
       "      <td>2201.851232</td>\n",
       "      <td>404.098658</td>\n",
       "      <td>-1794.753679</td>\n",
       "    </tr>\n",
       "    <tr>\n",
       "      <th>3</th>\n",
       "      <td>ID422</td>\n",
       "      <td>B</td>\n",
       "      <td>2795.258253</td>\n",
       "      <td>400.445827</td>\n",
       "      <td>5591.346452</td>\n",
       "    </tr>\n",
       "    <tr>\n",
       "      <th>4</th>\n",
       "      <td>ID559</td>\n",
       "      <td>C</td>\n",
       "      <td>2379.127141</td>\n",
       "      <td>408.907030</td>\n",
       "      <td>-1974.322390</td>\n",
       "    </tr>\n",
       "  </tbody>\n",
       "</table>\n",
       "</div>"
      ],
      "text/plain": [
       "      ID Group    Feature_1   Feature_2    Feature_3\n",
       "0  ID763     C  2125.539879  386.388234 -1726.247962\n",
       "1  ID204     C  2902.322078  407.393768 -2507.771190\n",
       "2  ID734     C  2201.851232  404.098658 -1794.753679\n",
       "3  ID422     B  2795.258253  400.445827  5591.346452\n",
       "4  ID559     C  2379.127141  408.907030 -1974.322390"
      ]
     },
     "execution_count": 25,
     "metadata": {},
     "output_type": "execute_result"
    }
   ],
   "source": [
    "fake_data.head()"
   ]
  },
  {
   "cell_type": "markdown",
   "id": "4cf66a6f",
   "metadata": {},
   "source": [
    "2a) Samples greater than 3000 based on theoretical distribution"
   ]
  },
  {
   "cell_type": "code",
   "execution_count": 32,
   "id": "9e13bd4c",
   "metadata": {},
   "outputs": [
    {
     "name": "stdout",
     "output_type": "stream",
     "text": [
      "Theoretical number of samples greater than 3000: 38\n"
     ]
    }
   ],
   "source": [
    "from scipy.stats import norm\n",
    "\n",
    "mean = 2500\n",
    "std_dev = 300\n",
    "\n",
    "\n",
    "z_score = (3000 - mean) / std_dev\n",
    "proportion_above_3000 = 1 - norm.cdf(z_score)\n",
    "expected_samples_above_3000 = round( n_samples * proportion_above_3000)\n",
    "\n",
    "print(\"Theoretical number of samples greater than 3000:\", expected_samples_above_3000)\n"
   ]
  },
  {
   "cell_type": "markdown",
   "id": "2dd16c0a",
   "metadata": {},
   "source": [
    "Actual samples which are greater than 3000"
   ]
  },
  {
   "cell_type": "code",
   "execution_count": 33,
   "id": "673784eb",
   "metadata": {},
   "outputs": [
    {
     "data": {
      "text/plain": [
       "25"
      ]
     },
     "execution_count": 33,
     "metadata": {},
     "output_type": "execute_result"
    }
   ],
   "source": [
    "sum(fake_data['Feature_1']>3000)"
   ]
  },
  {
   "cell_type": "markdown",
   "id": "aefb1124",
   "metadata": {},
   "source": [
    "Mean and standard deviation of Feature_3 within each group"
   ]
  },
  {
   "cell_type": "code",
   "execution_count": 34,
   "id": "a31b6982",
   "metadata": {},
   "outputs": [
    {
     "name": "stdout",
     "output_type": "stream",
     "text": [
      "              mean         std\n",
      "Group                         \n",
      "A      5508.251296  918.981180\n",
      "B      4971.598198  573.874042\n",
      "C     -2070.651792  299.646577\n"
     ]
    }
   ],
   "source": [
    "grouped_data = fake_data.groupby('Group')['Feature_3'].agg(['mean', 'std'])\n",
    "\n",
    "print(grouped_data)"
   ]
  },
  {
   "cell_type": "markdown",
   "id": "4041ff03",
   "metadata": {},
   "source": [
    "3. Make a scatterplot of Feature_3 vs Feature_1."
   ]
  },
  {
   "cell_type": "code",
   "execution_count": 35,
   "id": "5274668f",
   "metadata": {},
   "outputs": [
    {
     "data": {
      "image/png": "[encoded data removed]",
      "text/plain": [
       "<Figure size 640x480 with 1 Axes>"
      ]
     },
     "metadata": {},
     "output_type": "display_data"
    }
   ],
   "source": [
    "plt.scatter(fake_data['Feature_1'], fake_data['Feature_3'])\n",
    "plt.xlabel('Feature_1')\n",
    "plt.ylabel('Feature_3')\n",
    "plt.title('Scatterplot of Feature_3 vs Feature_1')\n",
    "plt.show()"
   ]
  },
  {
   "cell_type": "markdown",
   "id": "13c5b4b5",
   "metadata": {},
   "source": [
    "4. Write your constructed dataframe/tibble to a csv file called fake_data.csv."
   ]
  },
  {
   "cell_type": "code",
   "execution_count": 36,
   "id": "1e700d20",
   "metadata": {},
   "outputs": [],
   "source": [
    "fake_data.to_csv('fake_data.csv', index=False)"
   ]
  },
  {
   "cell_type": "markdown",
   "id": "e9996a8a",
   "metadata": {},
   "source": []
  }
 ],
 "metadata": {
  "kernelspec": {
   "display_name": "Python 3 (ipykernel)",
   "language": "python",
   "name": "python3"
  },
  "language_info": {
   "codemirror_mode": {
    "name": "ipython",
    "version": 3
   },
   "file_extension": ".py",
   "mimetype": "text/x-python",
   "name": "python",
   "nbconvert_exporter": "python",
   "pygments_lexer": "ipython3",
   "version": "3.11.4"
  }
 },
 "nbformat": 4,
 "nbformat_minor": 5
}
